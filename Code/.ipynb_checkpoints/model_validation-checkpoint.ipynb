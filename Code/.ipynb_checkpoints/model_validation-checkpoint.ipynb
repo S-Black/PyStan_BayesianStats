{
 "cells": [
  {
   "cell_type": "code",
   "execution_count": 1,
   "metadata": {},
   "outputs": [
    {
     "name": "stderr",
     "output_type": "stream",
     "text": [
      "INFO:pystan:COMPILING THE C++ CODE FOR MODEL anon_model_6cf33838b053d3bfc837630b899d79d3 NOW.\n",
      "WARNING:pystan:Maximum (flat) parameter count (1000) exceeded: skipping diagnostic tests for n_eff and Rhat.\n",
      "To run all diagnostics call pystan.check_hmc_diagnostics(fit)\n"
     ]
    },
    {
     "name": "stdout",
     "output_type": "stream",
     "text": [
      "-16714.563823883094\n",
      "33429.12764776619\n",
      "greater than 0.5    0.0325\n",
      "greater than 1      0.0000\n",
      "dtype: float64\n"
     ]
    },
    {
     "name": "stderr",
     "output_type": "stream",
     "text": [
      "INFO:pystan:COMPILING THE C++ CODE FOR MODEL anon_model_3270082a0c3e0f8451b1bce9a2ee44fd NOW.\n",
      "WARNING:pystan:Maximum (flat) parameter count (1000) exceeded: skipping diagnostic tests for n_eff and Rhat.\n",
      "To run all diagnostics call pystan.check_hmc_diagnostics(fit)\n"
     ]
    },
    {
     "name": "stdout",
     "output_type": "stream",
     "text": [
      "-16279.133628890108\n",
      "32558.267257780215\n",
      "greater than 0.5    0.05\n",
      "greater than 1      0.00\n",
      "dtype: float64\n",
      "{'diff': 435.43019499298595, 'se_diff': 55.08607968840038}\n"
     ]
    }
   ],
   "source": [
    "'''\n",
    "This code is the Python implementation form Chapter 16 page 392ff from\n",
    "Ben Lambert's book 'A Student's Guide to Bayesian Statisitcs'\n",
    "\n",
    "Please note that there is no straightforward way to calculate the WAIC in Python\n",
    "(It is possible with the PyMc3 package but there is no way to easily translate a PyStan fit \n",
    "model output into a PyMc3 format.)\n",
    "\n",
    "Loo-cv will be implemented in arviz soon but at the moment I have used stanity as a workaround.\n",
    "'''\n",
    "\n",
    "%matplotlib inline\n",
    "import numpy as np\n",
    "import matplotlib.pyplot as plt\n",
    "import pystan as stan\n",
    "import stanity #wrapper for fit output of stan models to conduct LOO cross validation (there is no way to do WAIC in Python)\n",
    "import os\n",
    "import seaborn as sns\n",
    "\n",
    "#nice plot aesthetic\n",
    "sns.set()  \n",
    "plt.style.use('seaborn-darkgrid')\n",
    "\n",
    "#Declare current directory to find .stan file \n",
    "#odata{\n",
    "  int N; //Number of people in sample\n",
    "  real Y[N]; //Heights for N people\n",
    "}\n",
    "parameters{\n",
    "  real mu; // mean hight in population\n",
    "  real<lower=0> sigmaSq; //var of height pop distribution\n",
    "}\n",
    "transformed parameters{\n",
    "  real sigma;\n",
    "  sigma=sqrt(sigmaSq);\n",
    "}\n",
    "model{\n",
    "  //likelihood\n",
    "  Y ~ normal(mu,sigma);\n",
    "\n",
    "  //priors\n",
    "  mu ~ normal(1.5,0.1);\n",
    "  sigmaSq ~ gamma(5,1);\n",
    "}\n",
    "s.chdir('C:\\\\Code')\n",
    "\n",
    "N=10000\n",
    "#Student-t distribution with nu=5\n",
    "X=np.random.standard_t(5,N)\n",
    "\n",
    "#Stan model normal distribution\n",
    "model = stan.StanModel(file='indep_samples_normal.stan')\n",
    "fit1 = model.sampling(data={'N':N,'X':X},iter=200,chains=1)\n",
    "\n",
    "#get likelihood\n",
    "#Loglikelihood_normal = fit1['logLikelihood'] #extract sampled data\n",
    "extracted = fit1.extract()\n",
    "loo1 = stanity.psisloo(extracted['logLikelihood'])\n",
    "print(loo1.elpd)  #elpd\n",
    "print(loo1.looic)  #looic\n",
    "print(loo1.print_summary()) #Numerical summary of pointwise Pareto-k indices --> Reports on frequency of observations with tail indices > 0.5 & 1\n",
    "\n",
    "#Stan model student t distribution\n",
    "model = stan.StanModel(file='indep_samples_student.stan')\n",
    "fit2 = model.sampling(data={'N':N,'X':X},iter=200,chains=1)\n",
    "\n",
    "#get likelihood\n",
    "#Loglikelihood_student = fit2['logLikelihood'] #extract sampled data\n",
    "extracted = fit2.extract()\n",
    "loo2 = stanity.psisloo(extracted['logLikelihood'])\n",
    "print(loo2.elpd)  #elpd\n",
    "print(loo2.looic)  #looic\n",
    "print(loo2.print_summary()) #Numerical summary of pointwise Pareto-k indices --> Reports on frequency of observations with tail indices > 0.5 & 1\n",
    "\n",
    "\n",
    "#Model comparison\n",
    "comparison = stanity.loo_compare(loo1, loo2)  #diff: difference in elpd (estimated log predictive density) between two models, where a positive value indicates that model2 is a better fit than model1.\n",
    "print(comparison) #We conclude that the second model (student-t) is the better fit with a higher elpd value"
   ]
  },
  {
   "cell_type": "code",
   "execution_count": null,
   "metadata": {},
   "outputs": [],
   "source": []
  },
  {
   "cell_type": "code",
   "execution_count": null,
   "metadata": {},
   "outputs": [],
   "source": []
  }
 ],
 "metadata": {
  "kernelspec": {
   "display_name": "stan_env",
   "language": "python",
   "name": "stan_env"
  },
  "language_info": {
   "codemirror_mode": {
    "name": "ipython",
    "version": 3
   },
   "file_extension": ".py",
   "mimetype": "text/x-python",
   "name": "python",
   "nbconvert_exporter": "python",
   "pygments_lexer": "ipython3",
   "version": "3.7.3"
  }
 },
 "nbformat": 4,
 "nbformat_minor": 4
}
