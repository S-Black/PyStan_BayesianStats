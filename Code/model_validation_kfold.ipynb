{
 "cells": [
  {
   "cell_type": "code",
   "execution_count": 3,
   "metadata": {},
   "outputs": [
    {
     "name": "stderr",
     "output_type": "stream",
     "text": [
      "INFO:pystan:COMPILING THE C++ CODE FOR MODEL anon_model_ae8bfac8cb31b97216547a3c8790ab83 NOW.\n",
      "WARNING:pystan:Maximum (flat) parameter count (1000) exceeded: skipping diagnostic tests for n_eff and Rhat.\n",
      "To run all diagnostics call pystan.check_hmc_diagnostics(fit)\n",
      "INFO:pystan:COMPILING THE C++ CODE FOR MODEL anon_model_ae8bfac8cb31b97216547a3c8790ab83 NOW.\n",
      "WARNING:pystan:Maximum (flat) parameter count (1000) exceeded: skipping diagnostic tests for n_eff and Rhat.\n",
      "To run all diagnostics call pystan.check_hmc_diagnostics(fit)\n",
      "INFO:pystan:COMPILING THE C++ CODE FOR MODEL anon_model_ae8bfac8cb31b97216547a3c8790ab83 NOW.\n",
      "WARNING:pystan:Maximum (flat) parameter count (1000) exceeded: skipping diagnostic tests for n_eff and Rhat.\n",
      "To run all diagnostics call pystan.check_hmc_diagnostics(fit)\n",
      "INFO:pystan:COMPILING THE C++ CODE FOR MODEL anon_model_ae8bfac8cb31b97216547a3c8790ab83 NOW.\n",
      "WARNING:pystan:Maximum (flat) parameter count (1000) exceeded: skipping diagnostic tests for n_eff and Rhat.\n",
      "To run all diagnostics call pystan.check_hmc_diagnostics(fit)\n",
      "INFO:pystan:COMPILING THE C++ CODE FOR MODEL anon_model_ae8bfac8cb31b97216547a3c8790ab83 NOW.\n",
      "WARNING:pystan:Maximum (flat) parameter count (1000) exceeded: skipping diagnostic tests for n_eff and Rhat.\n",
      "To run all diagnostics call pystan.check_hmc_diagnostics(fit)\n",
      "INFO:pystan:COMPILING THE C++ CODE FOR MODEL anon_model_bc5a650de2bb7160bd55f3ba3933b865 NOW.\n",
      "WARNING:pystan:Maximum (flat) parameter count (1000) exceeded: skipping diagnostic tests for n_eff and Rhat.\n",
      "To run all diagnostics call pystan.check_hmc_diagnostics(fit)\n",
      "INFO:pystan:COMPILING THE C++ CODE FOR MODEL anon_model_bc5a650de2bb7160bd55f3ba3933b865 NOW.\n",
      "WARNING:pystan:Maximum (flat) parameter count (1000) exceeded: skipping diagnostic tests for n_eff and Rhat.\n",
      "To run all diagnostics call pystan.check_hmc_diagnostics(fit)\n",
      "WARNING:pystan:Chain 1: E-BFMI = 0.0261\n",
      "WARNING:pystan:E-BFMI below 0.2 indicates you may need to reparameterize your model\n",
      "INFO:pystan:COMPILING THE C++ CODE FOR MODEL anon_model_bc5a650de2bb7160bd55f3ba3933b865 NOW.\n",
      "WARNING:pystan:Maximum (flat) parameter count (1000) exceeded: skipping diagnostic tests for n_eff and Rhat.\n",
      "To run all diagnostics call pystan.check_hmc_diagnostics(fit)\n",
      "INFO:pystan:COMPILING THE C++ CODE FOR MODEL anon_model_bc5a650de2bb7160bd55f3ba3933b865 NOW.\n",
      "WARNING:pystan:Maximum (flat) parameter count (1000) exceeded: skipping diagnostic tests for n_eff and Rhat.\n",
      "To run all diagnostics call pystan.check_hmc_diagnostics(fit)\n",
      "INFO:pystan:COMPILING THE C++ CODE FOR MODEL anon_model_bc5a650de2bb7160bd55f3ba3933b865 NOW.\n",
      "WARNING:pystan:Maximum (flat) parameter count (1000) exceeded: skipping diagnostic tests for n_eff and Rhat.\n",
      "To run all diagnostics call pystan.check_hmc_diagnostics(fit)\n"
     ]
    },
    {
     "name": "stdout",
     "output_type": "stream",
     "text": [
      "Model 1 Loo elpd  -16711.110600400567\n",
      "Model 2 Loo elpd  -16271.54229291516\n",
      "Difference  439.5683074854078  SD  0.0  pvalue  0.0\n"
     ]
    },
    {
     "name": "stderr",
     "output_type": "stream",
     "text": [
      "C:\\anaconda3\\envs\\stan_env\\lib\\site-packages\\ipykernel_launcher.py:61: RuntimeWarning: divide by zero encountered in double_scalars\n"
     ]
    }
   ],
   "source": [
    "'''\n",
    "This code is the Python implementation form Chapter 16 page 392ff from\n",
    "Ben Lambert's book 'A Student's Guide to Bayesian Statisitcs'\n",
    "\n",
    "We are using the same fake data here as in model_validation.ipynb but are\n",
    "conducting a k-fold validation that splits the data into test and train datasets\n",
    "'''\n",
    "\n",
    "%matplotlib inline\n",
    "import numpy as np\n",
    "import matplotlib.pyplot as plt\n",
    "import pystan as stan\n",
    "import stanity #wrapper for fit output of stan models to conduct LOO cross validation (there is no way to do WAIC in Python)\n",
    "import seaborn as sns\n",
    "from sklearn.model_selection import KFold\n",
    "from scipy.stats import norm\n",
    "\n",
    "#nice plot aesthetic\n",
    "sns.set()  \n",
    "plt.style.use('seaborn-darkgrid')\n",
    "\n",
    "def kFold(StanModel,testIndices,Data):\n",
    "    elpd_out = np.array([])\n",
    "    for train_index, test_index in testIndices.split(Data): #for each of the kfold mutations\n",
    "        X_train, X_test = Data[train_index], Data[test_index]  #get the data\n",
    "        \n",
    "        #Fit Stan model\n",
    "        model = stan.StanModel(file=StanModel)\n",
    "        fit = model.sampling(data={'NTest':2000,'NTrain':8000,'XTest':X_test,'XTrain':X_train},iter=200,chains=4)\n",
    "\n",
    "        #Loglikelihood\n",
    "        extracted = fit.extract()\n",
    "        loo = stanity.psisloo(extracted['logLikelihood'])        \n",
    "        elpd_out=np.append(elpd_out, loo.elpd)\n",
    "        \n",
    "    return elpd_out\n",
    "\n",
    "def main():\n",
    "\n",
    "    N=10000\n",
    "    #Student-t distribution with nu=5\n",
    "    X=np.random.standard_t(5,N)\n",
    "\n",
    "    #Split sample kfold into test and training datasets\n",
    "    testIndices = KFold(n_splits=5)\n",
    "    \n",
    "    #Run Stan models to get results\n",
    "    loo1 = kFold('normal_kfolds.stan',testIndices,X)\n",
    "    loo2 = kFold('student_kfolds.stan',testIndices,X)\n",
    "    \n",
    "    print(\"Model 1 Loo elpd \", np.sum(loo1))\n",
    "    print(\"Model 2 Loo elpd \",np.sum(loo2))\n",
    "    \n",
    "    difference=np.sum(loo2)-np.sum(loo1)\n",
    "    sd=np.sqrt(1000)*np.std(difference)\n",
    "    pvalue=1-norm.cdf(difference/sd)\n",
    "    print(\"Difference \",difference,\" SD \",sd, \" pvalue \",pvalue)\n",
    "    \n",
    "    \n",
    "main()"
   ]
  },
  {
   "cell_type": "code",
   "execution_count": null,
   "metadata": {},
   "outputs": [],
   "source": []
  }
 ],
 "metadata": {
  "kernelspec": {
   "display_name": "stan_env",
   "language": "python",
   "name": "stan_env"
  },
  "language_info": {
   "codemirror_mode": {
    "name": "ipython",
    "version": 3
   },
   "file_extension": ".py",
   "mimetype": "text/x-python",
   "name": "python",
   "nbconvert_exporter": "python",
   "pygments_lexer": "ipython3",
   "version": "3.7.3"
  }
 },
 "nbformat": 4,
 "nbformat_minor": 2
}
